{
  "nbformat": 4,
  "nbformat_minor": 0,
  "metadata": {
    "colab": {
      "name": "square_python.ipynb",
      "provenance": [],
      "collapsed_sections": []
    },
    "kernelspec": {
      "name": "python3",
      "display_name": "Python 3"
    }
  },
  "cells": [
    {
      "cell_type": "markdown",
      "metadata": {
        "id": "OknECuYZTjs1",
        "colab_type": "text"
      },
      "source": [
        "#Printing Square\n",
        "\n",
        "Writing python program to print square using FOR Loops"
      ]
    },
    {
      "cell_type": "code",
      "metadata": {
        "id": "Kf5i5_PxROCP",
        "colab_type": "code",
        "colab": {
          "base_uri": "https://localhost:8080/",
          "height": 34
        },
        "outputId": "aac2bd16-0549-48e0-ce6c-762949a55704"
      },
      "source": [
        "#printing * for the 1st row\n",
        "for i in range(4):\n",
        "  print(\"*\", end=\"\")"
      ],
      "execution_count": 7,
      "outputs": [
        {
          "output_type": "stream",
          "text": [
            "****"
          ],
          "name": "stdout"
        }
      ]
    },
    {
      "cell_type": "code",
      "metadata": {
        "id": "AItQy-HxS33u",
        "colab_type": "code",
        "colab": {
          "base_uri": "https://localhost:8080/",
          "height": 84
        },
        "outputId": "94a78940-1ec9-43ed-cca2-55466b5ed549"
      },
      "source": [
        "#printing * for 4 rows using 2 FOR Loops \n",
        "\n",
        "#for loop for columns \n",
        "for i in range(4):\n",
        "  #for loop for rows\n",
        "  for i in range(4):\n",
        "    print(\"*\", end=\"\")\n",
        "  print()"
      ],
      "execution_count": 11,
      "outputs": [
        {
          "output_type": "stream",
          "text": [
            "****\n",
            "****\n",
            "****\n",
            "****\n"
          ],
          "name": "stdout"
        }
      ]
    },
    {
      "cell_type": "markdown",
      "metadata": {
        "id": "nsPvgUqdUuXU",
        "colab_type": "text"
      },
      "source": [
        "we are using **end = \"  \"**, so that it will prints on the same line"
      ]
    }
  ]
}